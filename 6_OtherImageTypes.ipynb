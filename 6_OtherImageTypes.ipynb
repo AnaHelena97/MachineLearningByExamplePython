{
  "nbformat": 4,
  "nbformat_minor": 0,
  "metadata": {
    "colab": {
      "name": "6_OtherImageTypes.ipynb",
      "provenance": [],
      "authorship_tag": "ABX9TyOPKiW62QBrT6IRjiSgx1fP",
      "include_colab_link": true
    },
    "kernelspec": {
      "name": "python3",
      "display_name": "Python 3"
    },
    "accelerator": "GPU"
  },
  "cells": [
    {
      "cell_type": "markdown",
      "metadata": {
        "id": "view-in-github",
        "colab_type": "text"
      },
      "source": [
        "<a href=\"https://colab.research.google.com/github/AnaHelena97/MachineLearningByExamplePython/blob/master/6_OtherImageTypes.ipynb\" target=\"_parent\"><img src=\"https://colab.research.google.com/assets/colab-badge.svg\" alt=\"Open In Colab\"/></a>"
      ]
    },
    {
      "cell_type": "markdown",
      "metadata": {
        "id": "k_ml0P23_14m",
        "colab_type": "text"
      },
      "source": [
        "# LECTURE 6: Image recognition \n",
        "## TASK 19: Other Image Types\n",
        "\n",
        "First I copy all the code from the other file but this time i train our model to recognize fashion items\n",
        "\n",
        "Dataset: https://keras.io/api/datasets/fashion_mnist/\n",
        "\n",
        "Label\tDescription\n",
        "  * 0\tT-shirt/top\n",
        "  * 1\tTrouser\n",
        "  * 2\tPullover\n",
        "  * 3\tDress\n",
        "  * 4\tCoat\n",
        "  * 5\tSandal\n",
        "  * 6\tShirt\n",
        "  * 7\tSneaker\n",
        "  * 8\tBag\n",
        "  * 9\tAnkle boot\n"
      ]
    },
    {
      "cell_type": "code",
      "metadata": {
        "id": "_lq6lIt-_vuD",
        "colab_type": "code",
        "colab": {}
      },
      "source": [
        "%tensorflow_version 2.x"
      ],
      "execution_count": 0,
      "outputs": []
    },
    {
      "cell_type": "code",
      "metadata": {
        "id": "KqQqJ1XgAG2B",
        "colab_type": "code",
        "colab": {}
      },
      "source": [
        "from tensorflow.keras.datasets import fashion_mnist\n",
        "from tensorflow.keras.models import Sequential\n",
        "from tensorflow.keras.layers import Dense, Dropout, Flatten\n",
        "from tensorflow.keras.layers import Conv2D, MaxPooling2D\n",
        "from tensorflow.keras import backend as K\n",
        "from tensorflow.keras.optimizers import Adam\n",
        "from matplotlib import pyplot as plt\n",
        "import numpy as np\n",
        "import random"
      ],
      "execution_count": 0,
      "outputs": []
    },
    {
      "cell_type": "code",
      "metadata": {
        "id": "2X3e9Q_gAqWY",
        "colab_type": "code",
        "colab": {}
      },
      "source": [
        "# Input image dimensions\n",
        "img_rows, img_cols = 28, 28\n",
        "\n",
        "# The number of training samples per batch. 128 is a reasonable number.\n",
        "batch_size = 128\n",
        "\n",
        "# Our data set contains 10 digits, so the number of classes is 10\n",
        "num_classes = 10\n",
        "\n",
        "# epochs is the number of times the model is trained with the data set, more can be better, up to a point\n",
        "epochs = 20\n",
        "\n",
        "# dropout is a common regularization hyperperameter. It helps to avoid overfitting or memorizing the input.\n",
        "dropout = 0.65"
      ],
      "execution_count": 0,
      "outputs": []
    },
    {
      "cell_type": "markdown",
      "metadata": {
        "id": "zOp7fwwXBEZB",
        "colab_type": "text"
      },
      "source": [
        "Load data:"
      ]
    },
    {
      "cell_type": "code",
      "metadata": {
        "id": "q_J_c8LnBFmV",
        "colab_type": "code",
        "colab": {}
      },
      "source": [
        "(x_train, y_train), (x_test, y_test) = fashion_mnist.load_data()\n",
        "\n",
        "# Save original test images for display purposes\n",
        "orig_test = x_test"
      ],
      "execution_count": 0,
      "outputs": []
    },
    {
      "cell_type": "code",
      "metadata": {
        "id": "S1yhLjIXDv_Z",
        "colab_type": "code",
        "colab": {
          "base_uri": "https://localhost:8080/",
          "height": 281
        },
        "outputId": "dc0eaa95-c473-476c-f94d-4eb15b1bba69"
      },
      "source": [
        "index = random.randrange(1000)\n",
        "plt.imshow(orig_test[index], cmap='gray')\n",
        "plt.title('Label: %d' % y_test[index])\n",
        "plt.show()"
      ],
      "execution_count": 53,
      "outputs": [
        {
          "output_type": "display_data",
          "data": {
            "image/png": "[encoded data removed]",
            "text/plain": [
              "<Figure size 432x288 with 1 Axes>"
            ]
          },
          "metadata": {
            "tags": [],
            "needs_background": "light"
          }
        }
      ]
    },
    {
      "cell_type": "markdown",
      "metadata": {
        "id": "H2Klwx6oEV-x",
        "colab_type": "text"
      },
      "source": [
        "Data preparation:"
      ]
    },
    {
      "cell_type": "code",
      "metadata": {
        "id": "AqOgmm5FEYE3",
        "colab_type": "code",
        "colab": {
          "base_uri": "https://localhost:8080/",
          "height": 51
        },
        "outputId": "c1865cdb-bb30-49b8-c5fe-b0d23c091dc7"
      },
      "source": [
        "if K.image_data_format() == 'channels_first':\n",
        "    x_train = x_train.reshape(x_train.shape[0], 1, img_rows, img_cols)\n",
        "    x_test = x_test.reshape(x_test.shape[0], 1, img_rows, img_cols)\n",
        "    input_shape = (1, img_rows, img_cols)\n",
        "else:\n",
        "    x_train = x_train.reshape(x_train.shape[0], img_rows, img_cols, 1)\n",
        "    x_test = x_test.reshape(x_test.shape[0], img_rows, img_cols, 1)\n",
        "    input_shape = (img_rows, img_cols, 1)\n",
        "    \n",
        "x_train, x_test = x_train / 255.0, x_test / 255.0\n",
        "\n",
        "print(x_train.shape[0], 'train samples')\n",
        "print(x_test.shape[0], 'test samples')"
      ],
      "execution_count": 54,
      "outputs": [
        {
          "output_type": "stream",
          "text": [
            "60000 train samples\n",
            "10000 test samples\n"
          ],
          "name": "stdout"
        }
      ]
    },
    {
      "cell_type": "markdown",
      "metadata": {
        "id": "RQ2iPt0sEoiu",
        "colab_type": "text"
      },
      "source": [
        "Define model:"
      ]
    },
    {
      "cell_type": "code",
      "metadata": {
        "id": "eM8YVXq0Epxl",
        "colab_type": "code",
        "colab": {
          "base_uri": "https://localhost:8080/",
          "height": 425
        },
        "outputId": "9f9dbaac-7a92-44f9-ee7b-5f05935d6a9f"
      },
      "source": [
        "model = Sequential()\n",
        "model.add(Conv2D(32, kernel_size=(3, 3), activation='relu', input_shape=input_shape))\n",
        "model.add(Conv2D(64, (3, 3), activation='relu'))\n",
        "model.add(MaxPooling2D(pool_size=(2, 2)))\n",
        "model.add(Dropout(dropout/2))\n",
        "model.add(Flatten())\n",
        "model.add(Dense(128, activation='relu'))\n",
        "model.add(Dropout(dropout))\n",
        "model.add(Dense(num_classes, activation='softmax'))\n",
        "\n",
        "model.summary()"
      ],
      "execution_count": 55,
      "outputs": [
        {
          "output_type": "stream",
          "text": [
            "Model: \"sequential_3\"\n",
            "_________________________________________________________________\n",
            "Layer (type)                 Output Shape              Param #   \n",
            "=================================================================\n",
            "conv2d_6 (Conv2D)            (None, 26, 26, 32)        320       \n",
            "_________________________________________________________________\n",
            "conv2d_7 (Conv2D)            (None, 24, 24, 64)        18496     \n",
            "_________________________________________________________________\n",
            "max_pooling2d_3 (MaxPooling2 (None, 12, 12, 64)        0         \n",
            "_________________________________________________________________\n",
            "dropout_6 (Dropout)          (None, 12, 12, 64)        0         \n",
            "_________________________________________________________________\n",
            "flatten_3 (Flatten)          (None, 9216)              0         \n",
            "_________________________________________________________________\n",
            "dense_6 (Dense)              (None, 128)               1179776   \n",
            "_________________________________________________________________\n",
            "dropout_7 (Dropout)          (None, 128)               0         \n",
            "_________________________________________________________________\n",
            "dense_7 (Dense)              (None, 10)                1290      \n",
            "=================================================================\n",
            "Total params: 1,199,882\n",
            "Trainable params: 1,199,882\n",
            "Non-trainable params: 0\n",
            "_________________________________________________________________\n"
          ],
          "name": "stdout"
        }
      ]
    },
    {
      "cell_type": "markdown",
      "metadata": {
        "id": "V5_aEnbBEwtj",
        "colab_type": "text"
      },
      "source": [
        "Train Model:"
      ]
    },
    {
      "cell_type": "code",
      "metadata": {
        "id": "othrxf08ExxU",
        "colab_type": "code",
        "colab": {
          "base_uri": "https://localhost:8080/",
          "height": 1000
        },
        "outputId": "d6823f84-0fa6-4b27-de8f-b35a48fb7a31"
      },
      "source": [
        "model.compile(loss='sparse_categorical_crossentropy', optimizer=Adam(), metrics=['accuracy'])\n",
        "\n",
        "# Train model for a given number of epochs\n",
        "history = model.fit(x_train, y_train, batch_size=batch_size, epochs=epochs, verbose=1, validation_data=(x_test, y_test))\n",
        "\n",
        "# Evaluate model against test data\n",
        "score = model.evaluate(x_test, y_test, verbose=0)\n",
        "print('Test loss:', score[0])\n",
        "print('Test accuracy:', score[1])\n",
        "\n",
        "# summarize history for accuracy\n",
        "plt.plot(history.history['accuracy'])\n",
        "plt.plot(history.history['val_accuracy'])\n",
        "plt.title('Model accuracy')\n",
        "plt.ylabel('Accuracy')\n",
        "plt.xlabel('Epoch')\n",
        "plt.legend(['Train', 'Test'], loc='upper left')\n",
        "plt.show()"
      ],
      "execution_count": 56,
      "outputs": [
        {
          "output_type": "stream",
          "text": [
            "Epoch 1/20\n",
            "469/469 [==============================] - 7s 14ms/step - loss: 0.6135 - accuracy: 0.7827 - val_loss: 0.3669 - val_accuracy: 0.8653\n",
            "Epoch 2/20\n",
            "469/469 [==============================] - 7s 14ms/step - loss: 0.4091 - accuracy: 0.8548 - val_loss: 0.3066 - val_accuracy: 0.8888\n",
            "Epoch 3/20\n",
            "469/469 [==============================] - 7s 14ms/step - loss: 0.3548 - accuracy: 0.8749 - val_loss: 0.2858 - val_accuracy: 0.8979\n",
            "Epoch 4/20\n",
            "469/469 [==============================] - 7s 14ms/step - loss: 0.3200 - accuracy: 0.8851 - val_loss: 0.2658 - val_accuracy: 0.9022\n",
            "Epoch 5/20\n",
            "469/469 [==============================] - 6s 14ms/step - loss: 0.2964 - accuracy: 0.8934 - val_loss: 0.2441 - val_accuracy: 0.9129\n",
            "Epoch 6/20\n",
            "469/469 [==============================] - 7s 14ms/step - loss: 0.2754 - accuracy: 0.9010 - val_loss: 0.2437 - val_accuracy: 0.9123\n",
            "Epoch 7/20\n",
            "469/469 [==============================] - 6s 14ms/step - loss: 0.2597 - accuracy: 0.9056 - val_loss: 0.2468 - val_accuracy: 0.9115\n",
            "Epoch 8/20\n",
            "469/469 [==============================] - 7s 14ms/step - loss: 0.2459 - accuracy: 0.9103 - val_loss: 0.2222 - val_accuracy: 0.9177\n",
            "Epoch 9/20\n",
            "469/469 [==============================] - 7s 14ms/step - loss: 0.2338 - accuracy: 0.9131 - val_loss: 0.2217 - val_accuracy: 0.9202\n",
            "Epoch 10/20\n",
            "469/469 [==============================] - 7s 14ms/step - loss: 0.2219 - accuracy: 0.9183 - val_loss: 0.2257 - val_accuracy: 0.9201\n",
            "Epoch 11/20\n",
            "469/469 [==============================] - 7s 14ms/step - loss: 0.2142 - accuracy: 0.9195 - val_loss: 0.2254 - val_accuracy: 0.9218\n",
            "Epoch 12/20\n",
            "469/469 [==============================] - 6s 14ms/step - loss: 0.2035 - accuracy: 0.9238 - val_loss: 0.2173 - val_accuracy: 0.9224\n",
            "Epoch 13/20\n",
            "469/469 [==============================] - 7s 14ms/step - loss: 0.1974 - accuracy: 0.9264 - val_loss: 0.2098 - val_accuracy: 0.9247\n",
            "Epoch 14/20\n",
            "469/469 [==============================] - 7s 14ms/step - loss: 0.1903 - accuracy: 0.9283 - val_loss: 0.2251 - val_accuracy: 0.9234\n",
            "Epoch 15/20\n",
            "469/469 [==============================] - 6s 14ms/step - loss: 0.1837 - accuracy: 0.9307 - val_loss: 0.2231 - val_accuracy: 0.9234\n",
            "Epoch 16/20\n",
            "469/469 [==============================] - 6s 14ms/step - loss: 0.1784 - accuracy: 0.9326 - val_loss: 0.2268 - val_accuracy: 0.9220\n",
            "Epoch 17/20\n",
            "469/469 [==============================] - 6s 14ms/step - loss: 0.1751 - accuracy: 0.9338 - val_loss: 0.2201 - val_accuracy: 0.9274\n",
            "Epoch 18/20\n",
            "469/469 [==============================] - 7s 14ms/step - loss: 0.1661 - accuracy: 0.9364 - val_loss: 0.2123 - val_accuracy: 0.9276\n",
            "Epoch 19/20\n",
            "469/469 [==============================] - 7s 14ms/step - loss: 0.1635 - accuracy: 0.9374 - val_loss: 0.2118 - val_accuracy: 0.9285\n",
            "Epoch 20/20\n",
            "469/469 [==============================] - 7s 14ms/step - loss: 0.1562 - accuracy: 0.9388 - val_loss: 0.2194 - val_accuracy: 0.9271\n",
            "Test loss: 0.21943029761314392\n",
            "Test accuracy: 0.9271000027656555\n"
          ],
          "name": "stdout"
        },
        {
          "output_type": "display_data",
          "data": {
            "image/png": "[encoded data removed]",
            "text/plain": [
              "<Figure size 432x288 with 1 Axes>"
            ]
          },
          "metadata": {
            "tags": [],
            "needs_background": "light"
          }
        }
      ]
    },
    {
      "cell_type": "markdown",
      "metadata": {
        "id": "7H_HMHhgFh1o",
        "colab_type": "text"
      },
      "source": [
        "Predictions:"
      ]
    },
    {
      "cell_type": "code",
      "metadata": {
        "id": "tSMnyLBYFjFB",
        "colab_type": "code",
        "colab": {}
      },
      "source": [
        "predictions = model.predict(x_test)\n",
        "most_likely = predictions.argmax(1)"
      ],
      "execution_count": 0,
      "outputs": []
    },
    {
      "cell_type": "code",
      "metadata": {
        "id": "SaQCR431Fm-Z",
        "colab_type": "code",
        "colab": {
          "base_uri": "https://localhost:8080/",
          "height": 281
        },
        "outputId": "8b6b4f62-e2ac-4474-aebc-c384439c3c1a"
      },
      "source": [
        "index = random.randrange(10000)\n",
        "plt.title('Prediction: %d, label: %d' % (most_likely[index], y_test[index]))\n",
        "plt.imshow(orig_test[index], cmap='gray')\n",
        "plt.show()"
      ],
      "execution_count": 58,
      "outputs": [
        {
          "output_type": "display_data",
          "data": {
            "image/png": "[encoded data removed]",
            "text/plain": [
              "<Figure size 432x288 with 1 Axes>"
            ]
          },
          "metadata": {
            "tags": [],
            "needs_background": "light"
          }
        }
      ]
    },
    {
      "cell_type": "markdown",
      "metadata": {
        "id": "9B8A0NY5Fzg6",
        "colab_type": "text"
      },
      "source": [
        "Error analysis:"
      ]
    },
    {
      "cell_type": "code",
      "metadata": {
        "id": "08saNSBLF1Sg",
        "colab_type": "code",
        "colab": {
          "base_uri": "https://localhost:8080/",
          "height": 545
        },
        "outputId": "f1d281bf-f6eb-4ac2-e5ab-6d0a243f9e64"
      },
      "source": [
        "for i in range(10000):\n",
        "    index = random.randrange(10000)\n",
        "    if most_likely[index] != y_test[index]:\n",
        "        break\n",
        "\n",
        "plt.imshow(orig_test[index], cmap='gray')\n",
        "plt.title('Prediction: %d, label: %d' % (most_likely[index], y_test[index]))\n",
        "plt.show()\n",
        "\n",
        "plt.bar(range(10), predictions[index], tick_label=range(10))\n",
        "plt.title('Prediction values')\n",
        "plt.show()"
      ],
      "execution_count": 59,
      "outputs": [
        {
          "output_type": "display_data",
          "data": {
            "image/png": "[encoded data removed]",
            "text/plain": [
              "<Figure size 432x288 with 1 Axes>"
            ]
          },
          "metadata": {
            "tags": [],
            "needs_background": "light"
          }
        },
        {
          "output_type": "display_data",
          "data": {
            "image/png": "[encoded data removed]",
            "text/plain": [
              "<Figure size 432x288 with 1 Axes>"
            ]
          },
          "metadata": {
            "tags": [],
            "needs_background": "light"
          }
        }
      ]
    },
    {
      "cell_type": "markdown",
      "metadata": {
        "id": "vDAxb0dxGC7H",
        "colab_type": "text"
      },
      "source": [
        "Using my own images:"
      ]
    },
    {
      "cell_type": "code",
      "metadata": {
        "id": "Ps_dHOGWGFCG",
        "colab_type": "code",
        "colab": {}
      },
      "source": [
        "from skimage import io, transform"
      ],
      "execution_count": 0,
      "outputs": []
    },
    {
      "cell_type": "markdown",
      "metadata": {
        "id": "Yga2M1vrGEjg",
        "colab_type": "text"
      },
      "source": [
        ""
      ]
    }
  ]
}