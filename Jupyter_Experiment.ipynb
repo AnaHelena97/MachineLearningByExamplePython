{
  "nbformat": 4,
  "nbformat_minor": 0,
  "metadata": {
    "colab": {
      "name": "Jupyter Experiment",
      "provenance": [],
      "authorship_tag": "ABX9TyNB1yMw8Q9t20NpqTOp3GR1",
      "include_colab_link": true
    },
    "kernelspec": {
      "name": "python3",
      "display_name": "Python 3"
    }
  },
  "cells": [
    {
      "cell_type": "markdown",
      "metadata": {
        "id": "view-in-github",
        "colab_type": "text"
      },
      "source": [
        "<a href=\"https://colab.research.google.com/github/AnaHelena97/MachineLearningByExamplePython/blob/master/Jupyter_Experiment.ipynb\" target=\"_parent\"><img src=\"https://colab.research.google.com/assets/colab-badge.svg\" alt=\"Open In Colab\"/></a>"
      ]
    },
    {
      "cell_type": "markdown",
      "metadata": {
        "id": "9Bkf7hiAMtQe",
        "colab_type": "text"
      },
      "source": [
        "# Jupyter Notebooks\n",
        "\n",
        "This is my first jupyter notebook.\n",
        "\n",
        "How does it work?\n",
        "==================\n",
        "Using markdown [guide](https://github.com/adam-p/markdown-here/wiki/Markdown-Cheatsheet):\n",
        "--------------------\n",
        "put text in _italics_ *italics*\n",
        "\n",
        "put text in **bold** __bold__\n",
        "\n",
        "put text in ~~strikethrough~~\n",
        "\n",
        "Also this is my To do list:\n",
        "  1. Learn python\n",
        "  1. workout\n",
        "  6. online meeting\n",
        "  176. become super pro at machine learning and apply to bioinformatics\n",
        "\n",
        "Introducing **B**oard of **E**uropean **S**tudents of **T**echnology:\n",
        "BEST Delft: \n",
        "![alt text](https://bestdelft.nl/wp-content/uploads/2018/09/BEST_Delft_color_whitebg.png \"LBG Delft\")\n",
        "\n",
        "## Coding\n",
        "\n",
        "Now some code in `python`\n",
        "\n",
        "```python\n",
        "s = \"This is python code\"\n",
        "print s\n",
        "```\n",
        "\n",
        "## Tables\n",
        "\n",
        "Title 1 | Title 2 | Title 3\n",
        ":-----: | :-----: | :------: \n",
        "Category 1 | yes | no\n",
        "Catagory 2 | 2 | 6\n",
        "\n",
        "\n",
        "## Quotes\n",
        "\n",
        "> So this is a quote\n",
        "\n",
        "quoted by someone\n",
        "\n",
        "# Math\n",
        "\n",
        "$$ ax^{2}+bx+c=0 $$\n",
        "\n",
        "That's a quadratic expression\n",
        "\n",
        "\n",
        "# Code\n",
        "\n",
        "\n",
        "\n",
        "\n",
        "\n",
        "\n"
      ]
    },
    {
      "cell_type": "code",
      "metadata": {
        "id": "4q98X0E9SZVq",
        "colab_type": "code",
        "outputId": "5c584687-194f-47a2-ee0a-65b9e454cf8b",
        "colab": {
          "base_uri": "https://localhost:8080/",
          "height": 238
        }
      },
      "source": [
        "%time\n",
        "print('Table of squares')\n",
        "for i in range(10):\n",
        "  print(f'{i} times {i} = {i*i}')\n",
        "\n"
      ],
      "execution_count": 0,
      "outputs": [
        {
          "output_type": "stream",
          "text": [
            "CPU times: user 3 µs, sys: 1e+03 ns, total: 4 µs\n",
            "Wall time: 6.44 µs\n",
            "Table of squares\n",
            "0 times 0 = 0\n",
            "1 times 1 = 1\n",
            "2 times 2 = 4\n",
            "3 times 3 = 9\n",
            "4 times 4 = 16\n",
            "5 times 5 = 25\n",
            "6 times 6 = 36\n",
            "7 times 7 = 49\n",
            "8 times 8 = 64\n",
            "9 times 9 = 81\n"
          ],
          "name": "stdout"
        }
      ]
    },
    {
      "cell_type": "markdown",
      "metadata": {
        "id": "NkJcQks5idux",
        "colab_type": "text"
      },
      "source": [
        "# Questions of the Task\n",
        "\n",
        "   1. What is Jupyter notebook?\n",
        "\n",
        "   A: It's a nice application that allows to develop a project by running code, taking equations, text, etc.\n",
        "\n",
        "   2. What is Google Colab?\n",
        "\n",
        "   A: It's a cloud to use jupyter notebooks and share research projects with others.\n",
        "\n",
        "   3. What are some features of Jupyter notebook that you found interesting?\n",
        "\n",
        "   A: The fact that it supports different code languages and also that you can put basically everyhting in it like text and it looks nice. Very user friendly.\n",
        "\n",
        "   4. What do you want to learn most in this course?\n",
        "\n",
        "   A: I want to feel confortable with python. But mostly I want to learn machine learning so that afterwards I could start applyting to bioinformatics related projects."
      ]
    }
  ]
}